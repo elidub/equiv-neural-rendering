{
 "cells": [
  {
   "cell_type": "code",
   "execution_count": 1,
   "metadata": {},
   "outputs": [],
   "source": [
    "%load_ext autoreload\n",
    "%autoreload 2\n",
    "\n",
    "import torch\n",
    "import matplotlib.pyplot as plt\n",
    "import numpy as np\n",
    "import os\n",
    "import json\n",
    "\n",
    "import imageio\n",
    "import os\n",
    "\n",
    "from PIL import Image, ImageDraw\n",
    "import glob\n",
    "import sys\n",
    "\n",
    "src_path = os.path.join(sys.path[0], '../src/')\n",
    "sys.path.insert(1, src_path)\n",
    "\n",
    "from enr.misc.utils import open_runs\n",
    "from enr.misc.viz import plot_run, make_gif"
   ]
  },
  {
   "cell_type": "code",
   "execution_count": 13,
   "metadata": {},
   "outputs": [],
   "source": [
    "runs, histories = open_runs({\n",
    "    '2023-05-10_12-31_roto_lr2e-4' : {'desc' : 'Rotations'},\n",
    "    '2023-05-14_16-54_trans_lr2e-4': {'desc' : 'Translations'},\n",
    "})"
   ]
  },
  {
   "cell_type": "code",
   "execution_count": 1,
   "metadata": {},
   "outputs": [
    {
     "ename": "NameError",
     "evalue": "name 'runs' is not defined",
     "output_type": "error",
     "traceback": [
      "\u001b[0;31m---------------------------------------------------------------------------\u001b[0m",
      "\u001b[0;31mNameError\u001b[0m                                 Traceback (most recent call last)",
      "Cell \u001b[0;32mIn[1], line 1\u001b[0m\n\u001b[0;32m----> 1\u001b[0m [plot_run(losses) \u001b[39mfor\u001b[39;00m losses \u001b[39min\u001b[39;00m runs\u001b[39m.\u001b[39mvalues()];\n",
      "\u001b[0;31mNameError\u001b[0m: name 'runs' is not defined"
     ]
    }
   ],
   "source": [
    "[plot_run(losses) for losses in runs.values()];"
   ]
  }
 ],
 "metadata": {
  "kernelspec": {
   "display_name": "nr2",
   "language": "python",
   "name": "python3"
  },
  "language_info": {
   "codemirror_mode": {
    "name": "ipython",
    "version": 3
   },
   "file_extension": ".py",
   "mimetype": "text/x-python",
   "name": "python",
   "nbconvert_exporter": "python",
   "pygments_lexer": "ipython3",
   "version": "3.9.16"
  },
  "orig_nbformat": 4
 },
 "nbformat": 4,
 "nbformat_minor": 2
}
