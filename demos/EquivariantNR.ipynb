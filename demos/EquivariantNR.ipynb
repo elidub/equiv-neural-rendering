{
 "cells": [
  {
   "attachments": {},
   "cell_type": "markdown",
   "metadata": {
    "id": "9ewRfFs307zB"
   },
   "source": [
    "# Equivariant Neural Rendering\n",
    "\n",
    "% Include more general intro introducing equivariance and neural rendering"
   ]
  },
  {
   "cell_type": "code",
   "execution_count": null,
   "metadata": {
    "id": "Dak5naPA3UPI"
   },
   "outputs": [],
   "source": [
    "# Standard imports\n",
    "import random, os, sys\n",
    "import cv2\n",
    "import copy\n",
    "import matplotlib.pyplot as plt\n",
    "import seaborn as sns\n",
    "from matplotlib import image as mpimg\n",
    "\n",
    "# Set plot configurations\n",
    "%matplotlib inline\n",
    "sns.set() # Setting seaborn as default style even if use only matplotlib\n",
    "sns.set_style(\"whitegrid\", {'axes.grid' : False})\n",
    "import imageio\n",
    "import torch\n",
    "import torchvision\n",
    "from torchvision.transforms import ToTensor\n",
    "\n",
    "# Set Cuda\n",
    "device = torch.device('cuda' if torch.cuda.is_available() else 'cpu')\n",
    "\n",
    "# Detect local paths\n",
    "\"\"\" Detect local path \"\"\"\n",
    "local_path = !pwd\n",
    "local_path = local_path[0]\n",
    "main_path = local_path[:-5]\n",
    "sys.path.append(local_path + '/../src/')\n",
    "sys.path.append(local_path + '/../src/enr/')\n",
    "\n",
    "# Import from modules\n",
    "from models.neural_renderer import *\n",
    "from enr.misc.notebook_tools import *"
   ]
  },
  {
   "attachments": {},
   "cell_type": "markdown",
   "metadata": {
    "id": "mBstX2KVztat"
   },
   "source": [
    "## 1. Introduction\n",
    "\n",
    "\n",
    "The paper from Dupont et al. introduces an approach to render 2D images into implicit, equivariant 3D representations. The authors argue that the scene representations need not be explicit, as long as the transformations to it occur in an equivariant manner. Their model is trained on a dataset of rotation symmetries, learning to produce novel views from a single image of a scene.\n",
    "\n",
    "Current approaches in scene representations present difficulties with scalability. Voxel grids, point clouds and other traditional methods have high computational and memory requirements. Reconstrucion from incomplete or noisy data is also a challenging task with these methods, often requiring 3D information during training. Generating novel views of a scene given some input views presents the same difficulties. Finally, traditional neural networks are not equivariant with respect to general transformation groups. 3D equivariance especially requires specifc techniques like steerable filters. The authors attempt to solve these problems by proposing a new method which results in more scalable, implicit representations that are also equivariant with respect to transformations. \n",
    "\n",
    "The difference between an explicit scene representation (mesh grid) and an implicit one can be seen in the figure below:\n",
    "\n",
    "![Alt text](../src/imgs/paper_screenshots/fig2.png)\n",
    "\n",
    "  \n",
    "### 1.1: Methodology\n",
    "\n",
    "The proposed model uses a series of convolutions to map scene representations to images. Specifically, the scene representation is passed through 3D convolutions, followed by 1x1 convolutions and a set of 2D convolutions that maps them to image space. The reverse renderer is the transpose of this operation. Equivariance is enforced by applying transformations in both the scene and image spaces. Because the representation space is a deep voxel grid, the transformations in this space are defined by a 3D rotation matrix. Inverse warping with trilinear interpolation is also used in the model, to reconstruct the values after rotations.\n",
    "\n",
    "![Alt text](../src/imgs/paper_screenshots/fig5.png)\n",
    "\n",
    "For training, two images of the same scene are passed through the renderer. Then, the 3D transformation grid is applied in the representation space to turn one into the other, before passing them to the inverse renderer. Finally, the output images are compared to the original inputs to obtain the loss values. Training in this manner ensures the model learns equivariant representations, as the loss evaluates both the actual rendering and the accuracy of the matching transformations from both spaces.\n",
    "\n",
    "![Alt text](../src/imgs/paper_screenshots/fig4.png)\n",
    "\n",
    "Finally, the authors claim that the rendering loss used makes little change in results. They provide l1 norm, l2 norm and SSIM loss as candidates, and conduct ablation studies to determine the tradeoffs between them.\n",
    "\n",
    "### 1.2: Datasets\n",
    "The authors evaluate their model on 4 datasets, including two ShapeNet benchmarks as well as two novel datasets of the authors design. They use an image size of 128 x 128 and the deep voxel grid (i.e., the implicit scene representation) has a size of 64 x 32 x 32 x 32.\n",
    "The datasets are presented in Table 1. Per scene, multiple images are taken, each from a different camera angle.\n",
    "\n",
    "\n",
    "| *Dataset*  | *Source*  |  *Sample* | *# Scenes*  |*# images per scene*| *# datapoints*|\n",
    "|---|---|---|---|---||\n",
    "| Chairs  | [ShapeNet](https://icml20-prod.cdn-apple.com/eqn-data/data/chairs.zip)  | ![Chair](../src/imgs/paper_screenshots/chair.png)  |  6591 | 50  | 329 550|\n",
    "| Cars  |  [ShapeNet](https://icml20-prod.cdn-apple.com/eqn-data/data/cars.zip) | ![Car](../src/imgs/paper_screenshots/car.png)  |  3514 |  50 | 175 700|\n",
    "| MugsHQ  |  [Apple](https://icml20-prod.cdn-apple.com/eqn-data/data/mugs.zip) | ![Mug](../src/imgs/paper_screenshots/mug.png)  |  214 | 150  | 32 100|\n",
    "| 3D mountainset  |  [Apple](https://icml20-prod.cdn-apple.com/eqn-data/data/mountains.zip) | ![Mountain](../src/imgs/paper_screenshots/mountain.png)  |  559 |  50 | 27 950|\n",
    "\n",
    "Table 1.: *Overview of datasets considered for equivariant neural rendering by Dupont et al.*\n",
    "\n",
    "### 1.3: Experiments of paper\n",
    "\n",
    "The proposed model is compared against three baseline models, each one making assumptions much stronger than the original study.\n",
    "\n",
    "|   | TCO  |  DGQN | SRN  | Proposed model  |\n",
    "|---|---|---|---|---|\n",
    "| Requires Absolute Pose  | Yes  | Yes | Yes | No |\n",
    "| Requires Pose at Inference Time  | No  | Yes | Yes | No |\n",
    "| Optimization at Inference Time  | No  | No | Yes | No |\n",
    "\n",
    "The qualitative comparisons against the baseline models in single shot novel view synthesis with the ShapeNet chairs dataset reveals that the model achieves similar to SoTA results while making far fewer assumptions than the other methods. It can produce high quality novel views by achieving the desired equivariant transformation in representation space.\n",
    "\n",
    "![Alt text](../src/imgs/paper_screenshots/results.png)\n",
    "\n",
    "Results similar to the chairs were reported in the other datasets, with some variations due to the specific challenges of each dataset. For example, the mountains contain extremely complex geometric information, which severly limits the detail of the novel view synthesis.\n",
    "\n",
    "![Alt text](../src/imgs/paper_screenshots/chairs.png) \n",
    "\n",
    "![Alt text](../src/imgs/paper_screenshots/cars.png) \n",
    "\n",
    "![Alt text](../src/imgs/paper_screenshots/mugs.png) \n",
    "\n",
    "![Alt text](../src/imgs/paper_screenshots/mountains.png)\n",
    "\n",
    "Finally, the authors performed ablation studies to test novel view synthesis when using different loss functions. The results in each one were similar and no inherent prefered approach was suggested. In the end, they reason that choice of loss function is task specific.\n",
    "\n",
    "\n",
    "### 1.4 Demo of Original work \n",
    "\n",
    "The subsequent section presents a demonstration of the model capabilities of the model produced by Dupont et al. You may adjust the transformation parameters in order to transform the representation and render an input image from a novel view."
   ]
  },
  {
   "attachments": {},
   "cell_type": "markdown",
   "metadata": {},
   "source": [
    "**Configure Transformations**"
   ]
  },
  {
   "cell_type": "code",
   "execution_count": null,
   "metadata": {},
   "outputs": [],
   "source": [
    "\"\"\"\n",
    "In this cell you can configure the transformations you wish \n",
    "to apply to the rendered image. You can set these to any value you like!\n",
    "\n",
    "An empty call to the transformation_dictionary yields coordinates [0, 0, 0, 0, 0]\n",
    "\"\"\"\n",
    "\n",
    "# initial view \n",
    "bprint('Initial camera position')\n",
    "init_camera_pos = transformation_dict(print_transform = True)\n",
    "\n",
    "# Transformed view\n",
    "bprint('Transformed camera position:')\n",
    "transformations = transformation_dict(azimuth = 30., elevation = 30., \n",
    "                                      x = 0., y = -.2, z = .2, print_transform = True)\n",
    "\n"
   ]
  },
  {
   "attachments": {},
   "cell_type": "markdown",
   "metadata": {
    "id": "YLsHkFYj5s3O"
   },
   "source": [
    "**Loading, plotting & transforming the original image**\n",
    "\n",
    "The model infers from a single image and renders a second image from a (predefined) novel view, as illustrated in the cell below."
   ]
  },
  {
   "cell_type": "code",
   "execution_count": null,
   "metadata": {},
   "outputs": [],
   "source": [
    "# ---------------------------------------------------------\n",
    "# Loading the original image\n",
    "# ---------------------------------------------------------\n",
    "# Load trained chairs modellocal_path\n",
    "model_path = main_path + 'src/train_results/original/chairs.pt'\n",
    "\n",
    "# You can also try loading other examples (e.g. 'chair1.png')\n",
    "img_path  = main_path + 'src/imgs/example-data/chair4.png'\n",
    "\n",
    "scene, model, original_img, rendered_img = render_image(model_path, img_path)\n",
    "original_scene = scene\n",
    "\n",
    "\n",
    "# ---------------------------------------------------------\n",
    "# Transform and render scene\n",
    "# ---------------------------------------------------------\n",
    "images, keys = apply_all_transformations(transformations, model, scene, init_camera_pos, original_img, rendered_img)\n",
    "\n",
    "# Plot without transformations\n",
    "fig = display_transformations(images[:2], keys[:2], fsize = (9.8, 3))    \n",
    "fig.suptitle('Demo of Original Rotation Model', size = 15)\n",
    "fig.subplots_adjust(top=0.8)\n",
    "\n",
    "# Plot with transformations\n",
    "fig = display_transformations(images[2:], keys[2:], fsize = (7, 3))\n",
    "plt.tight_layout()"
   ]
  },
  {
   "attachments": {},
   "cell_type": "markdown",
   "metadata": {
    "id": "UOqKmSe90M2z"
   },
   "source": [
    "## 2. Response \n",
    "\n",
    "Much of the success of Deep Learning can be attributed to effective representation learning. Such representations do not need to be humanly interpretable, but can also be abstract. The original authors proposed an implicit 3D representation of the scene, instead of an explicit 3D representation such as mesh-grids or point clouds. By removing the need for an explicit 3D representation, they developed a model that requires no 3D supervision. It only requires 2D images with the corresponding relative rotation angle of the camera, that was used between these images. Their model can generate a novel view from a different angle, given a single image. The qualitative results of their model’s performance motivated us to extent their research.\n",
    "\n",
    "In the original paper, the authors used 3D rotations to generate novel views, meaning that they rotate a camera on a sphere around the scene. 3D rotations do not act transitively on 3D space. Therefore, we proposed to extend their model to roto-translations, with the intermediate proof-of-concept step of using translations only. Roto-translations act transitively on 3D space, meaning that we can produce any possible camera angle. The full spectrum of rigid body motions are nescessary to produce satisfactory renderings of real world environments. For instance in applications such as virtual and agumented reality, and 3D reconstruction. Hence, we hope to obtain a model that can generate a novel view for any camera position in 3D space, within a reasonable range of movement.\n",
    "\n",
    "\n",
    "###  What can the model do and what is missing?\n",
    "\n",
    "The model, which was trained by the original authors, shows some nice out-of-the-box capabilities. That is the model can already perform some limited (roto-)translations.\n",
    "\n",
    "#### Translations through inductive bias\n",
    "\n",
    "Through inductive bias, (reasonably small) translations, which are orthogonal to the line of sight, already work on the model that has only been trained on rotations. This is due to the fact that the model uses a CNN architecture, which is translationally equivariant along the image plane. Due to the weight sharing property of the convolution kernels, a CNN will generally use the same encoding for the two images, where one is a shifted version of the other, but with the same shift applied to the encoding. The same goes for the decoder (i.e. neural renderer) which will produce the same rendered image for a shifted reprensentation. Therefore, the model acts translationally equivariant for these kinds of shifts. Still, it seems interesting that the model does not seem to encode any information from the outside of the object to produce a good estimation.\n",
    "\n",
    "\n",
    "![Alt text](../src/imgs/paper_screenshots/translational_eq_cnn.png)\n",
    "\n",
    "*Illustration of translational equivariance in CNNs (https://www.mdpi.com/2076-3417/10/9/3161). Shifting the input and encoding it is equivalent to shifting encoding the input and shifting the encoding.*\n",
    "\n",
    "Nonetheless, translations along the line of sight do not work out-of-the-box and require explicit training. The reason for that is that the equivariant neural rendering model considers the depth dimension via incorporating its information into the channels of the CNN. More concrete, the model uses the following code:\n",
    "\n",
    "```python\n",
    "# Reshape 3D -> 2D\n",
    "reshaped = inputs.view(batch_size, channels * depth, height, width)\n",
    "```\n",
    "\n",
    "Furthermore, due to the central positioning of the objects in the images, the model has problems rendering scenes that extent to the image boundaries. "
   ]
  },
  {
   "cell_type": "code",
   "execution_count": null,
   "metadata": {},
   "outputs": [],
   "source": [
    "# Translations that are orthogonal to the line of sight only\n",
    "translations = transformation_dict(y = .3, z = .3)\n",
    "trans_scene = transform_scene(model, scene, init_camera_pos, translations)\n",
    "\n",
    "# Zoom-in\n",
    "zoom_in_translations = transformation_dict(x = -.5)\n",
    "zoom_in_scene = transform_scene(model, scene,init_camera_pos, zoom_in_translations)\n",
    "\n",
    "\n",
    "# Zoom-out\n",
    "zoom_out_translations = transformation_dict(x = .5)\n",
    "zoom_out_scene = transform_scene(model, scene,init_camera_pos, zoom_out_translations)\n",
    "\n",
    "\n",
    "imgs = [original_img, trans_scene, zoom_in_scene, zoom_out_scene]\n",
    "keys = ['original image', 'translated image', 'Zoom-in\\n(line-of-sight)', 'Zoom-out\\n(line-of-sight)']\n",
    "\n",
    "fig = display_transformations(imgs, keys, fsize = (12,2))"
   ]
  },
  {
   "attachments": {},
   "cell_type": "markdown",
   "metadata": {},
   "source": [
    "Another problem with out-of-the-box translations from the rotation model is that it only shifts the 2D image instead of developing a real 3D understanding of the scene. When we compare the rendered image to the ground truth, we observe that the model does not grasp that a shift also changes the angle at which the camera is looking at the object. It is obvious because the model has never seen a shift and only works on 2D equivariance as described above. Furthermore, we simply added a functionality for translations without ever training the model on them."
   ]
  },
  {
   "cell_type": "code",
   "execution_count": null,
   "metadata": {},
   "outputs": [],
   "source": [
    "img_path  = main_path + 'src/imgs/example-data/data_128_translation_nozoom/00000.png'\n",
    "scene, model, original_img, rendered_img = render_image(model_path, img_path)\n",
    "\n",
    "# compare with ground truth\n",
    "img_number = '00001'\n",
    "img_path2 = main_path + f'src/imgs/example-data/data_128_translation_nozoom/{img_number}.png'\n",
    "ground_truth = plt.imread(img_path2)\n",
    "\n",
    "azimuth, elevation, x_value, y_value, z_value = read_render_params(\n",
    "    main_path + 'src/imgs/example-data/data_128_translation_nozoom/render_params.json', img_number\n",
    "    )\n",
    "roto_translations = transformation_dict(azimuth, elevation, x_value, y_value, z_value)\n",
    "roto_trans_scene = transform_scene(model, scene, init_camera_pos, roto_translations)\n",
    "\n",
    "imgs = [original_img, roto_trans_scene, ground_truth]\n",
    "keys = ['original image', 'translated image', 'ground truth (translation)']\n",
    "\n",
    "fig = display_transformations(imgs, keys, fsize = (12,2))"
   ]
  },
  {
   "attachments": {},
   "cell_type": "markdown",
   "metadata": {},
   "source": [
    "#### Roto-translations\n",
    "\n",
    "We further observe that the same properties allow for out-of-the-box roto-translations. Also, the roto-translations do not account for the angular shift between camera and object."
   ]
  },
  {
   "cell_type": "code",
   "execution_count": null,
   "metadata": {},
   "outputs": [],
   "source": [
    "img_path  = main_path + 'src/imgs/example-data/data_128_RT_nozoom/00000.png'\n",
    "scene, model, original_img, rendered_img = render_image(model_path, img_path)\n",
    "\n",
    "# compare with ground truth\n",
    "img_number = '00014'\n",
    "img_path2 = main_path + f'src/imgs/example-data/data_128_RT_nozoom/{img_number}.png'\n",
    "ground_truth = plt.imread(img_path2)\n",
    "\n",
    "azimuth, elevation, x_value, y_value, z_value = read_render_params(\n",
    "    main_path + 'src/imgs/example-data/data_128_RT_nozoom/render_params.json', img_number\n",
    "    )\n",
    "roto_translations = transformation_dict(azimuth, elevation, x_value, y_value, z_value)\n",
    "roto_trans_scene = transform_scene(model, scene, init_camera_pos, roto_translations)\n",
    "\n",
    "imgs = [original_img, roto_trans_scene, ground_truth]\n",
    "keys = ['original image', 'roto-translated image', 'ground truth (roto-translation)']\n",
    "\n",
    "fig = display_transformations(imgs, keys, fsize = (12,2))"
   ]
  },
  {
   "attachments": {},
   "cell_type": "markdown",
   "metadata": {},
   "source": [
    "#### In conclusion...\n",
    "\n",
    "Their model has some useful capabilities for generating novel views including (roto-)translations. Nonetheless, upon thorough review, these translations do not reflect actual physics (relative rotational angle), nor are they complete (zoom and edge artifacts). We therefore need to train a model which can produce these novel views correctly."
   ]
  },
  {
   "attachments": {},
   "cell_type": "markdown",
   "metadata": {
    "id": "20zq9asv0nkE"
   },
   "source": [
    "## 3. Novel Contribution\n",
    "\n",
    "In this section we describe the novel contributions of our research.\n",
    "\n",
    "- We introduce a method to generate training data for the equivariant neural rendering models (section 3.1).\n",
    "\n",
    "- We introduce a model that has been trained on translations and a model that has been trained on roto-translations (section 3.2). This part constitutes the main contribution of our research.\n",
    "\n",
    "\n",
    "\n",
    "\n",
    "\n"
   ]
  },
  {
   "attachments": {},
   "cell_type": "markdown",
   "metadata": {
    "id": "_ivUZLqx1LxI"
   },
   "source": [
    "### 3.1 Datasets\n",
    "\n",
    "The authors present datasets consisting of rotational transformations. However, they do not provide instructions or tools for further data generation. To address this limitation we developed a new pipeline using blender for producing images of 3D-models under rotations, translations and roto-translations. Our pipeline can be used to increase the size of the training data, or to extend training data to new transformation groups.\n",
    "\n",
    "The following section demonstrates the practical application of our pipeline for data production, by demonstrating how to use blender to generate new training data containing roto-translations.\n",
    "\n",
    "#### 3.1.1  Demonstration: populating datasets using Blender \n",
    "Similar to Dupont et al., we perform experiments on the [ShapeNet Core](https://shapenet.org/download/shapenetcore)-Chairs benchmark. It is worth noting that the objects included in the ShapeNetCore dataset are already normalized and consistently aligned. However, the subsequent pipeline can be adapted to accommodate any 3D-object data that is processable by Blender. Here follows a brief demonstration of how data can be constructed using Blender 3.5.1.\n"
   ]
  },
  {
   "attachments": {},
   "cell_type": "markdown",
   "metadata": {},
   "source": [
    "**Run the subsequent cells once to install Blender with wget**\n",
    "\n",
    "_NB! Installation assumes Linux-based OS._\n",
    "\n",
    "\n"
   ]
  },
  {
   "cell_type": "code",
   "execution_count": null,
   "metadata": {},
   "outputs": [],
   "source": [
    "\"\"\" Install / Load wget \"\"\"\n",
    "%pip install wget\n",
    "import wget"
   ]
  },
  {
   "cell_type": "code",
   "execution_count": null,
   "metadata": {},
   "outputs": [],
   "source": [
    "\"\"\" Install blender \"\"\"\n",
    "# Download blender 3.5.1\n",
    "!wget https://ftp.nluug.nl/pub/graphics/blender/release/Blender3.5/blender-3.5.1-linux-x64.tar.xz;"
   ]
  },
  {
   "cell_type": "code",
   "execution_count": null,
   "metadata": {},
   "outputs": [],
   "source": [
    "%%capture\n",
    "# Unpack \n",
    "!tar -xvf blender-3.5.1-linux-x64.tar.xz;\n",
    "!rm {local_path}/blender-3.5.1-linux-x64.tar.xz;\n",
    "\n",
    "# Move and rename for shorter commands\n",
    "!mv {local_path}/blender-3.5.1-linux-x64 {main_path}src/enr/data/demo/blender"
   ]
  },
  {
   "attachments": {},
   "cell_type": "markdown",
   "metadata": {},
   "source": [
    "_Run render demo_\n",
    "\n",
    "In order to build a roto-translational dataset pass both command line arguments: _--rotation --translation_ . To build a dataset composed only of rotations or translations pass only the singular argument respectively. Here we show an example for building a rotational dataset."
   ]
  },
  {
   "cell_type": "code",
   "execution_count": null,
   "metadata": {},
   "outputs": [],
   "source": [
    "%%capture\n",
    "\"\"\" Run Demo\"\"\"\n",
    "!{main_path}src/enr/data/demo/blender/blender -b --python {main_path}src/enr/data/demo/render_blender.py -- --scene_name data --rotation --scene_folder src/enr/data/demo/data/model_1 --local_path {main_path} --output_folder output/roto/"
   ]
  },
  {
   "attachments": {},
   "cell_type": "markdown",
   "metadata": {},
   "source": [
    "_Display demonstration of roto dataset_"
   ]
  },
  {
   "cell_type": "code",
   "execution_count": null,
   "metadata": {},
   "outputs": [],
   "source": [
    "\"\"\" Display random sample outputs \"\"\"\n",
    "# Load 3 random images from output directory\n",
    "path = main_path + \"src/enr/data/demo/output/roto/data/\"\n",
    "random_file = [random.choice(os.listdir(path)) for img in range(3)]\n",
    "images = [mpimg.imread(path + image) for image in random_file]\n",
    "\n",
    "# Plot sampleset\n",
    "fig, axs = plt.subplots(1, 3, figsize=(7, 3))\n",
    "for ax, id in zip(axs, range(3)):\n",
    "    ax.imshow(images[id])\n",
    "plt.title('Demonstration of dataset production: Roto-translations of chair model\\n', loc='right')\n",
    "plt.show()"
   ]
  },
  {
   "attachments": {},
   "cell_type": "markdown",
   "metadata": {
    "id": "uyEyGTfZDv51"
   },
   "source": [
    "#### 3.1.2 Populating new datasets\n",
    "\n",
    "We used the afformentioned pipeline to build 3 new datasets: \n",
    "\n",
    "   * _Rotations_: used to reproduce the results presented by Dupont et al.\n",
    "   * _Translations_: used to train a model with higher capacity for translation equivariance.\n",
    "   * _Roto-translations_: used to train a roto-translational equivariant model.\n",
    "    \n",
    "We downscale the datasets in order to reduce the computational costs of training the new models. For all three datasets we use the partitioning described in table 2. \n",
    "\n",
    "\n",
    "|   | **# Scenes**  |  **# Images per scene** | **Resolution**  | **# datapoints**  |\n",
    "|---|---|---|---|---|\n",
    "| Train  | 2306  |  50 | 64 x 64  |  115300 |\n",
    "| Validation  | 331  | 50  |  64 x 64 | 16550  |\n",
    "\n",
    "Table 2: _Partition of new datasets_\n",
    "\n",
    "\n",
    "| **Hyperparameter**  | **R**  |  **X** | **Y**  | **Z**  | **Resolution** |\n",
    "|---|---|---|---|---|---|\n",
    "|   | 1.5  | [-0.4, 0.4]  | [-0.3, 0.5]  | [-0.4, 0.4] | 64 x 64|\n",
    "\n",
    "Table 3: _Hyperparameters used when populating the new dataset._\n",
    "\n",
    "% Need to include rotations for training here, and fill in more info.\n",
    "\n",
    "We construct the datasets by sampling poses from various views. In case of rotations the camera is placed on a sphere with a radius **R**. For each view, a value between 0 and $2\\pi$ is uniformly sampled for the elevation and azimuth angle of the camera and rotated accordingly. In case of translations, for each view, a value is uniformly sampled from a range of **X**, **Y** and **Z** locations of the chair."
   ]
  },
  {
   "attachments": {},
   "cell_type": "markdown",
   "metadata": {},
   "source": [
    "### 3.2 Extending the model\n",
    "\n",
    "#### 3.3.0 Reproducing rotations with our dataset\n",
    "[//]: ![image](../src/imgs/output/rotations.gif)"
   ]
  },
  {
   "cell_type": "code",
   "execution_count": null,
   "metadata": {},
   "outputs": [],
   "source": [
    "\"\"\" You can set these to any value you like!\n",
    "\"\"\"\n",
    "\n",
    "# Transformed view\n",
    "bprint('Transformed camera position:')\n",
    "transformations = transformation_dict(azimuth = 1.8, elevation = 3.4, \n",
    "                                      x = 0., y = .15, z = .0, print_transform = True)\n",
    "\n"
   ]
  },
  {
   "cell_type": "code",
   "execution_count": null,
   "metadata": {
    "scrolled": false
   },
   "outputs": [],
   "source": [
    "# Load trained chairs modellocal_path\n",
    "model_path = main_path + 'src/train_results/2023-05-10_12-31_roto_lr2e-4/best_model.pt'\n",
    "\n",
    "# You can also try loading other examples (e.g. 'chair1.png')\n",
    "#img_path  = main_path + 'src/imgs/example-data/rotation_train_scene/00000.png'\n",
    "img_path  = main_path + 'src/imgs/example-data/rotation_validation_scene/00000.png'\n",
    "\n",
    "scene, model, original_img, rendered_img = render_image(model_path, img_path, downsample = False)\n",
    "\n",
    "\n",
    "\n",
    "# ---------------------------------------------------------\n",
    "# Transform and render scene\n",
    "# ---------------------------------------------------------\n",
    "images, keys = apply_all_transformations(transformations, model, scene, init_camera_pos, original_img, rendered_img)\n",
    "\n",
    "# Plot without transformations\n",
    "fig = display_transformations(images[:2], keys[:2], fsize = (9.8, 3))    \n",
    "fig.suptitle('Demo of Our Rotation Model', size = 15)\n",
    "fig.subplots_adjust(top=0.8)\n",
    "\n",
    "# Plot with transformations\n",
    "fig = display_transformations(images[2:], keys[2:], fsize = (7, 3))\n",
    "plt.tight_layout()"
   ]
  },
  {
   "attachments": {},
   "cell_type": "markdown",
   "metadata": {},
   "source": [
    "#### 3.3.1 Translations\n",
    "\n",
    "As shown in section 3.2, the original model, which was pretrained on rotation data only, can already produce valid shifts for short distances along the image plane but not along the line of sight. We produced a translation dataset for the model to learn how to deal with more extensive shifts of the camera, as well as learning how to deal with shifts of any size along the line of sight. Because the depth dimension is encoded within the channels of the convolution layers, it is plausible that the model can learn to make use of this information to produce a zoom-like effect, similar to which one would expect when moving the camera closer to the object.\n",
    "\n",
    "Since we can only cover a finite range of translations, we limit the range of shift to -0.4 and 0.4 for all directions. This value was chosen because it still leaves the chair mostly in the image and hence, still contains useful information for training and inference.\n",
    "\n",
    "*** Show the new model and present the results ***\n",
    "**Demo in the making**\n",
    "\n",
    "[//]: ![image](../src/imgs/output/translations.gif)\n",
    "\n",
    "\n",
    "*** Depending on how our experiments go, we might need to talk about model architecture and more inductive biases here ***"
   ]
  },
  {
   "cell_type": "code",
   "execution_count": null,
   "metadata": {},
   "outputs": [],
   "source": [
    "# Load trained chairs modellocal_path\n",
    "model_path = main_path + 'src/train_results/2023-05-14_16-54_trans_lr2e-4/best_model.pt'\n",
    "\n",
    "# You can also try loading other examples (e.g. 'chair1.png')\n",
    "img_path  = main_path + 'src/imgs/example-data/translation_train_scene/00000.png'\n",
    "\n",
    "scene, model, original_img, rendered_img = render_image(model_path, img_path, downsample = False)\n",
    "\n",
    "# ---------------------------------------------------------\n",
    "# Transform and render scene\n",
    "# ---------------------------------------------------------\n",
    "images, keys = apply_all_transformations(transformations, model, scene, init_camera_pos, original_img, rendered_img)\n",
    "\n",
    "# Plot without transformations\n",
    "fig = display_transformations(images[:2], keys[:2], fsize = (9.8, 3))    \n",
    "fig.suptitle('Demo of Our Translation Model', size = 15)\n",
    "fig.subplots_adjust(top=0.8)\n",
    "\n",
    "# Plot with transformations\n",
    "fig = display_transformations(images[2:], keys[2:], fsize = (7, 3))\n",
    "plt.tight_layout()"
   ]
  },
  {
   "attachments": {},
   "cell_type": "markdown",
   "metadata": {},
   "source": [
    "**Translations along x-axis**\n",
    "\n",
    "In particular, we observe that the models capabilities of translations along the x-axis (scaling) has significantly increased after training upon the translation data "
   ]
  },
  {
   "cell_type": "code",
   "execution_count": null,
   "metadata": {},
   "outputs": [],
   "source": [
    "roto_translations = transformation_dict(x = 0.5)\n",
    "roto_trans_scene = transform_scene(model, scene, init_camera_pos, roto_translations)\n",
    "\n",
    "imgs = [original_img, roto_trans_scene]\n",
    "keys = ['original image', 'Zoom-out image (x-axis)']\n",
    "\n",
    "fig = display_transformations(imgs, keys)\n",
    "\n",
    "roto_translations = transformation_dict(x = -0.5)\n",
    "roto_trans_scene = transform_scene(model, scene, init_camera_pos, roto_translations)\n",
    "\n",
    "imgs = [original_img, roto_trans_scene]\n",
    "keys = ['original image', 'Zoom-in image (x-axis)']\n",
    "\n",
    "fig = display_transformations(imgs, keys)"
   ]
  },
  {
   "attachments": {},
   "cell_type": "markdown",
   "metadata": {},
   "source": [
    "#### 3.3.2 Roto-Translations\n",
    "\n",
    "The motivation for our research was to extend the equivariant neural rendering model to be able to produce novel views for any camera position in 3D space. Roto-translations fulfill this requirement. More specifically, we can cover all 3D positions by limiting the azimuth angle to a range of -180 to 180 degrees and the elevation angle to a range of -90 to 90 degrees. The latter avoids a flipping of the camera which causes problems with the compatibility of translations in Blender vs translations in the model. Nonetheless, by being able to rotate the camera along the azimuth, we can still cover all necessary views. For translations, we can obviously only cover a finite distances, therefore we chose the same range as in section 3.2 (-0.5 to 0.5 for all directions).\n",
    "\n",
    "*** Show the new model and present the results ***"
   ]
  },
  {
   "cell_type": "code",
   "execution_count": null,
   "metadata": {},
   "outputs": [],
   "source": [
    "# Load trained chairs modellocal_path\n",
    "model_path = main_path + 'src/train_results/2023-05-18_13-38_rototrans_lr1e-5/best_model.pt'\n",
    "\n",
    "# You can also try loading other examples (e.g. 'chair1.png')\n",
    "img_path  = main_path + 'src/imgs/example-data/translation_train_scene/00000.png'\n",
    "\n",
    "scene, model, original_img, rendered_img = render_image(model_path, img_path, downsample = False)\n",
    "\n",
    "# ---------------------------------------------------------\n",
    "# Transform and render scene\n",
    "# ---------------------------------------------------------\n",
    "images, keys = apply_all_transformations(transformations, model, scene, init_camera_pos, original_img, rendered_img)\n",
    "\n",
    "# Plot without transformations\n",
    "fig = display_transformations(images[:2], keys[:2], fsize = (9.8, 3))    \n",
    "fig.suptitle('Demo of Our Roto-Translation Model', size = 15)\n",
    "fig.subplots_adjust(top=0.8)\n",
    "\n",
    "# Plot with transformations\n",
    "fig = display_transformations(images[2:], keys[2:], fsize = (7, 3))\n",
    "plt.tight_layout()"
   ]
  },
  {
   "attachments": {},
   "cell_type": "markdown",
   "metadata": {},
   "source": [
    "# Evaluate PSNR"
   ]
  },
  {
   "cell_type": "code",
   "execution_count": null,
   "metadata": {},
   "outputs": [],
   "source": [
    "%%capture\n",
    "from scripts.evaluate_psnr import evaluate\n",
    "\n",
    "# Get path to experiment folder from command line arguments\n",
    "model_path = main_path + 'src/train_results/original/chairs.pt'\n",
    "data_dir = main_path + \"src/enr/data/sample_data/original_data/chairs-test/\"\n",
    "\n",
    "psnr_original = evaluate(model_path, data_dir, img_res = 128, n_imgs = 49)\n",
    "avg_psnr_original = np.mean(psnr_original)\n",
    "\n",
    "# With new resolution - TODO: \n",
    "model_path = main_path + 'src/train_results/2023-05-24_15-01_five_rototrans_lr2e-5_64/best_model.pt'\n",
    "data_dir = main_path + \"src/enr/data/sample_data/new_data/\"\n",
    "\n",
    "psnr_new = evaluate(model_path, data_dir, img_res = 64, n_imgs = 49)\n",
    "avg_psnr_new = np.mean(psnr_new)"
   ]
  },
  {
   "cell_type": "code",
   "execution_count": null,
   "metadata": {},
   "outputs": [],
   "source": [
    "print('Mean PSNR of original model', np.round(np.mean(psnr_original), 2))\n",
    "print('Mean PSNR of our model', np.round(np.mean(psnr_new), 2))"
   ]
  },
  {
   "attachments": {},
   "cell_type": "markdown",
   "metadata": {
    "id": "TCIdBAQM0wnm"
   },
   "source": [
    "## 4. Conclusion\n",
    "\n",
    "- Some preliminary results (working model)"
   ]
  },
  {
   "cell_type": "code",
   "execution_count": null,
   "metadata": {
    "id": "INMCM8Rn031G"
   },
   "outputs": [],
   "source": []
  },
  {
   "attachments": {},
   "cell_type": "markdown",
   "metadata": {
    "id": "I4Ykt1aL1Al9"
   },
   "source": [
    "## 5. Contributions \n",
    "\n",
    "Close the notebook with a description of the each students' contribution.\n",
    "\n",
    "\n",
    "\n",
    "\n",
    "\n",
    "**Oline**: Dataset-production & scripting in blender, blender-demo, notebook & model-demonstrations, result-evaluation, PSNR implementations for new models, aided in training,  background research, \n",
    "\n",
    "**Robin**: Adjusting code for homogenous coordinates to accomodate (roto-)translations, investigating how to align data generation with model (alignment of axis, order of translation and rotation), notebook & model demonstrations\n",
    "\n",
    "**Aniek**: Background research, dataset-production & scripting in blender, investigating how to align data generation with model (alignment of axis, order of translation and rotation)."
   ]
  },
  {
   "cell_type": "code",
   "execution_count": null,
   "metadata": {
    "id": "_MSYFssb1IAm"
   },
   "outputs": [],
   "source": []
  }
 ],
 "metadata": {
  "colab": {
   "provenance": []
  },
  "kernelspec": {
   "display_name": "Python 3 (ipykernel)",
   "language": "python",
   "name": "python3"
  },
  "language_info": {
   "codemirror_mode": {
    "name": "ipython",
    "version": 3
   },
   "file_extension": ".py",
   "mimetype": "text/x-python",
   "name": "python",
   "nbconvert_exporter": "python",
   "pygments_lexer": "ipython3",
   "version": "3.10.6"
  },
  "vscode": {
   "interpreter": {
    "hash": "6d30045d674a486ab5c434de7ddbe5be62df7fb1ca9297a17bd34125d3fa56d2"
   }
  }
 },
 "nbformat": 4,
 "nbformat_minor": 1
}
