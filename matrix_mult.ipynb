{
 "cells": [
  {
   "cell_type": "code",
   "execution_count": 4,
   "metadata": {},
   "outputs": [
    {
     "name": "stdout",
     "output_type": "stream",
     "text": [
      "[[ 0.4198 -0.345  -0.8395  1.    ]\n",
      " [-0.2159  0.8605 -0.4615  2.    ]\n",
      " [ 0.8816  0.3749  0.2867  3.    ]\n",
      " [ 0.      0.      0.      1.    ]]\n",
      "[[ 0.4198 -0.345  -0.8395 -2.7887]\n",
      " [-0.2159  0.8605 -0.4615  0.1206]\n",
      " [ 0.8816  0.3749  0.2867  2.4915]\n",
      " [ 0.      0.      0.      1.    ]]\n"
     ]
    }
   ],
   "source": [
    "import numpy as np\n",
    "\n",
    "# translation matrix\n",
    "trans = np.array(\n",
    "    [[1, 0, 0, 1],\n",
    "     [0, 1, 0, 2],\n",
    "     [0, 0, 1, 3],\n",
    "     [0, 0, 0, 1]]\n",
    ")\n",
    "\n",
    "# rotation matrix\n",
    "rot = np.array(\n",
    "    [[ 0.4198, -0.3450, -0.8395, 0.0000],\n",
    "     [-0.2159,  0.8605, -0.4615, 0.0000],\n",
    "     [ 0.8816,  0.3749,  0.2867, 0.0000],\n",
    "     [ 0.0000,  0.0000,  0.0000, 1.0000]]\n",
    ")\n",
    "\n",
    "# rototranslation matrix\n",
    "tr = trans @ rot\n",
    "rt = rot @ trans\n",
    "print(tr)\n",
    "print(rt)"
   ]
  },
  {
   "attachments": {},
   "cell_type": "markdown",
   "metadata": {},
   "source": [
    "Matrix TR is trivial to construct."
   ]
  },
  {
   "cell_type": "code",
   "execution_count": 16,
   "metadata": {},
   "outputs": [
    {
     "name": "stdout",
     "output_type": "stream",
     "text": [
      "translate then rotate [[-34.7237 -38.2771 -41.8305  -3.5534]\n",
      " [  1.2016   1.5053   1.809    0.3037]\n",
      " [ 29.3031  33.3378  37.3725   4.0347]\n",
      " [ 10.      11.      12.       1.    ]]\n",
      "rotate then translate [[ 3.1633  3.3986  3.6339  0.2353]\n",
      " [19.9956 22.1787 24.3618  2.1831]\n",
      " [34.3881 38.9313 43.4745  4.5432]\n",
      " [10.     11.     12.      1.    ]]\n",
      "tr [[ 3.1633  3.3986  3.6339  0.2353]\n",
      " [19.9956 22.1787 24.3618  2.1831]\n",
      " [34.3881 38.9313 43.4745  4.5432]\n",
      " [10.     11.     12.      1.    ]]\n",
      "rt [[-34.7237 -38.2771 -41.8305  -3.5534]\n",
      " [  1.2016   1.5053   1.809    0.3037]\n",
      " [ 29.3031  33.3378  37.3725   4.0347]\n",
      " [ 10.      11.      12.       1.    ]]\n"
     ]
    }
   ],
   "source": [
    "# Effect on an object\n",
    "obj = np.array(\n",
    "    [[1, 2, 3, 1],\n",
    "     [4, 5, 6, 1],\n",
    "     [7, 8, 9, 1],\n",
    "     [10, 11, 12, 1]]\n",
    ")\n",
    "\n",
    "obj_t = trans @ obj\n",
    "obj_t_r = rot @ obj_t\n",
    "print(\"translate then rotate\", obj_t_r)\n",
    "\n",
    "obj_r = rot @ obj\n",
    "obj_r_t = trans @ obj_r\n",
    "print(\"rotate then translate\", obj_r_t)\n",
    "\n",
    "obj_tr = tr @ obj\n",
    "print(\"tr\", obj_tr)\n",
    "\n",
    "obj_rt = rt @ obj\n",
    "print(\"rt\", obj_rt)"
   ]
  },
  {
   "attachments": {},
   "cell_type": "markdown",
   "metadata": {},
   "source": [
    "Matrix TR corrensponds to first rotating the object and then translating it.\n",
    "\n",
    "How does this work if we rotate the camera?"
   ]
  },
  {
   "cell_type": "code",
   "execution_count": 37,
   "metadata": {},
   "outputs": [
    {
     "name": "stdout",
     "output_type": "stream",
     "text": [
      "torch.Size([1, 4, 4])\n",
      "torch.Size([1, 64, 32, 32, 32])\n",
      "translate then rotate tensor([0.0000, 0.2324, 0.1720])\n",
      "rotate then translate tensor([0.7657, 0.9083, 0.7558])\n",
      "tr tensor([0.0000, 0.2324, 0.1720])\n",
      "rt tensor([0.0000, 0.2324, 0.1720])\n"
     ]
    }
   ],
   "source": [
    "from transforms3d.rotations import rotate\n",
    "import torch\n",
    "from models.neural_renderer import load_model\n",
    "\n",
    "model = load_model('trained-models/chairs.pt')\n",
    "\n",
    "volume = torch.rand(1, 64, 32, 32, 32)\n",
    "\n",
    "print(torch.tensor(trans, dtype=torch.float32).unsqueeze(0).shape)\n",
    "print(volume.shape)\n",
    "\n",
    "t = torch.tensor(trans, dtype=torch.float32).unsqueeze(0)\n",
    "r = torch.tensor(rot, dtype=torch.float32).unsqueeze(0)\n",
    "rt = torch.tensor(rt, dtype=torch.float32).unsqueeze(0)\n",
    "tr = torch.tensor(tr, dtype=torch.float32).unsqueeze(0)\n",
    "\n",
    "volume_t = model.rotate(volume, t)\n",
    "volume_t_r = model.rotate(volume_t, r)\n",
    "print(\"translate then rotate\", volume_t_r[0, 0, 0, 0, :3])\n",
    "\n",
    "volume_r = model.rotate(volume, r)\n",
    "volume_r_t = model.rotate(volume, t)\n",
    "print(\"rotate then translate\", volume_r_t[0, 0, 0, 0, :3])\n",
    "\n",
    "volume_tr = model.rotate(volume, tr)\n",
    "print(\"tr\", volume_tr[0, 0, 0, 0, :3])\n",
    "\n",
    "volume_rt = model.rotate(volume, rt)\n",
    "print(\"rt\", volume_rt[0, 0, 0, 0, :3])"
   ]
  }
 ],
 "metadata": {
  "kernelspec": {
   "display_name": "nr",
   "language": "python",
   "name": "python3"
  },
  "language_info": {
   "codemirror_mode": {
    "name": "ipython",
    "version": 3
   },
   "file_extension": ".py",
   "mimetype": "text/x-python",
   "name": "python",
   "nbconvert_exporter": "python",
   "pygments_lexer": "ipython3",
   "version": "3.9.16"
  },
  "orig_nbformat": 4,
  "vscode": {
   "interpreter": {
    "hash": "6d30045d674a486ab5c434de7ddbe5be62df7fb1ca9297a17bd34125d3fa56d2"
   }
  }
 },
 "nbformat": 4,
 "nbformat_minor": 2
}
