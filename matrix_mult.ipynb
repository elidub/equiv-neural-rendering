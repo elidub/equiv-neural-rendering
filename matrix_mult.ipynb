{
 "cells": [
  {
   "cell_type": "code",
   "execution_count": 4,
   "metadata": {},
   "outputs": [
    {
     "name": "stdout",
     "output_type": "stream",
     "text": [
      "[[ 0.4198 -0.345  -0.8395  1.    ]\n",
      " [-0.2159  0.8605 -0.4615  2.    ]\n",
      " [ 0.8816  0.3749  0.2867  3.    ]\n",
      " [ 0.      0.      0.      1.    ]]\n",
      "[[ 0.4198 -0.345  -0.8395 -2.7887]\n",
      " [-0.2159  0.8605 -0.4615  0.1206]\n",
      " [ 0.8816  0.3749  0.2867  2.4915]\n",
      " [ 0.      0.      0.      1.    ]]\n"
     ]
    }
   ],
   "source": [
    "import numpy as np\n",
    "\n",
    "# translation matrix\n",
    "trans = np.array(\n",
    "    [[1, 0, 0, 1],\n",
    "     [0, 1, 0, 2],\n",
    "     [0, 0, 1, 3],\n",
    "     [0, 0, 0, 1]]\n",
    ")\n",
    "\n",
    "# rotation matrix\n",
    "rot = np.array(\n",
    "    [[ 0.4198, -0.3450, -0.8395, 0.0000],\n",
    "     [-0.2159,  0.8605, -0.4615, 0.0000],\n",
    "     [ 0.8816,  0.3749,  0.2867, 0.0000],\n",
    "     [ 0.0000,  0.0000,  0.0000, 1.0000]]\n",
    ")\n",
    "\n",
    "# rototranslation matrix\n",
    "tr = trans @ rot\n",
    "rt = rot @ trans\n",
    "print(tr)\n",
    "print(rt)"
   ]
  },
  {
   "attachments": {},
   "cell_type": "markdown",
   "metadata": {},
   "source": [
    "If we translate first, then rotate, the matrix construction is trivial. Since translating the scene is equivalent to -1 * translation of the camera, this holds for either strategy."
   ]
  }
 ],
 "metadata": {
  "kernelspec": {
   "display_name": "nr",
   "language": "python",
   "name": "python3"
  },
  "language_info": {
   "codemirror_mode": {
    "name": "ipython",
    "version": 3
   },
   "file_extension": ".py",
   "mimetype": "text/x-python",
   "name": "python",
   "nbconvert_exporter": "python",
   "pygments_lexer": "ipython3",
   "version": "3.9.16"
  },
  "orig_nbformat": 4,
  "vscode": {
   "interpreter": {
    "hash": "6d30045d674a486ab5c434de7ddbe5be62df7fb1ca9297a17bd34125d3fa56d2"
   }
  }
 },
 "nbformat": 4,
 "nbformat_minor": 2
}
